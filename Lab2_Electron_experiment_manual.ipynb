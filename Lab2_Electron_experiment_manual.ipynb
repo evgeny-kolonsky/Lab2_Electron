{
  "nbformat": 4,
  "nbformat_minor": 0,
  "metadata": {
    "colab": {
      "provenance": [],
      "include_colab_link": true
    },
    "kernelspec": {
      "name": "python3",
      "display_name": "Python 3"
    },
    "language_info": {
      "name": "python"
    }
  },
  "cells": [
    {
      "cell_type": "markdown",
      "metadata": {
        "id": "view-in-github",
        "colab_type": "text"
      },
      "source": [
        "<a href=\"https://colab.research.google.com/github/evgeny-kolonsky/Lab2_Electron/blob/main/Lab2_Electron_experiment_manual.ipynb\" target=\"_parent\"><img src=\"https://colab.research.google.com/assets/colab-badge.svg\" alt=\"Open In Colab\"/></a>"
      ]
    },
    {
      "cell_type": "markdown",
      "source": [
        "\n",
        "# Lab2 Electron in fields, Part IV: experiment timing"
      ],
      "metadata": {
        "id": "sLr-btjOTgp1"
      }
    },
    {
      "cell_type": "markdown",
      "source": [
        "![Fig1](https://github.com/evgeny-kolonsky/Lab2_Electron/blob/main/Fig1%20Setup.png?raw=true)"
      ],
      "metadata": {
        "id": "gHw9_30aO0uq"
      }
    },
    {
      "cell_type": "markdown",
      "source": [
        "[Part I](https://github.com/evgeny-kolonsky/Lab2_Electron/blob/main/Lab2_Thomson.ipynb): Reproduce vendor's experiments.\n",
        "> [P3.8.5.1](https://www.leybold-shop.com/physics/physics-experiments/electricity/free-charge-carriers-in-a-vacuum/thomson-tube/investigating-the-deflection-of-electrons-in-electrical-and-magnetic-fields/vp3-8-5-1.html) Investigating the deflection of electrons in electrical and magnetic fields\n",
        "\n",
        "> [P3.8.5.2](https://www.leybold-shop.com/physics/physics-experiments/electricity/free-charge-carriers-in-a-vacuum/thomson-tube/assembling-a-velocity-filter-wien-filter-to-determine-the-specific-electron-charge/vp3-8-5-2.html) Velocity filter (Wien filter)\n",
        "\n",
        "[Part II](https://github.com/evgeny-kolonsky/Lab2_Electron/tree/main/CollectData) Collect data.\n",
        "\n",
        "[Part III](https://github.com/evgeny-kolonsky/Lab2_Electron/blob/main/Lab2_Thomson2.ipynb) Data Analysis."
      ],
      "metadata": {
        "id": "weEdSsL4NVCy"
      }
    },
    {
      "cell_type": "code",
      "source": [
        "import numpy as np # math functions\n",
        "import scipy # scientific functions\n",
        "from scipy.stats import linregress # contains linregress (for linear regression)\n",
        "import scipy.stats as stats\n",
        "from scipy.optimize import curve_fit  # non-linear curve fitting\n",
        "from scipy.optimize import minimize\n",
        "import matplotlib.pyplot as plt # for plotting figures and setting their properties\n",
        "import seaborn as sns\n",
        "from matplotlib.ticker import (MultipleLocator, AutoMinorLocator)\n",
        "import pandas as pd # handling data structures (loaded from files)\n",
        "from sklearn.metrics import r2_score # import function that calculates R^2 score\n",
        "from sklearn.metrics import mean_squared_error as mse\n",
        "import json, requests\n",
        "import itertools\n",
        "import numpy.polynomial.polynomial as poly\n"
      ],
      "metadata": {
        "id": "OdPCJdPplxtS"
      },
      "execution_count": 13,
      "outputs": []
    },
    {
      "cell_type": "markdown",
      "source": [
        "The goal of the experiment is to find value of charge to mass relation for electron ${e \\over m}$.\n",
        "\n",
        "Literature value:\n",
        "$$\n",
        "{e_0\\over m_0} = 1.7588 \\cdot 10^{11} {C \\over \\text{kg}}\n",
        "$$"
      ],
      "metadata": {
        "id": "17lN0qcYUDDd"
      }
    },
    {
      "cell_type": "markdown",
      "source": [
        "# Plan:\n",
        "\n"
      ],
      "metadata": {
        "id": "URKZcKJqUsBt"
      }
    },
    {
      "cell_type": "markdown",
      "source": [
        "1. Make **Z**-experiment to record the beam line at zero deflection forces. This will be used later when performing W-experiment.\n",
        "\n",
        "2. Make **E**-experiment using $U_a$ > 2 kV (variant: $U_p < U_a$). Compare trajectory with parabola. At this experiment researcher finds or checks losses coefficient $k_1$ (passport value $k_1 =0.75$), which will be used later when performing W-experiment.\n",
        "\n",
        "3. Make **B**-experiment using $I$ > 100 mA. Compare trajectory with circle. Calculate $e/m$ with confidence intervals and compare with literature value ${e_0\\over m_0} = 1.7588 \\cdot 10^{11} {C \\over \\text{kg}}$. At this experiment researcher uses $k_2$ theoretical value $k_2 =0.7155$.\n",
        "\n",
        "4. Make **W**-experiment using $U_a$ > 2 kV and $I$ > 100 mA. At this experiment  researcher sets $U_p$ and varies $I$ to make beam as close to zero-forces line (found earlier) as possible. Calculate $e/m$, confidence interval, and compare the result with literature value and results of B-experiment."
      ],
      "metadata": {
        "id": "OlBQ23G9OwGC"
      }
    },
    {
      "cell_type": "markdown",
      "source": [
        "## Equipment\n",
        "\n",
        "\n",
        "\n",
        "*   High Voltage Power Source LE Didaction, x2\n",
        "*   Power Source TENMA, x1\n",
        "*  Digital multimetr DMM\n",
        "* Thomson tube on stand\n",
        "* A pair of Helmholz rings\n",
        "* Wires: Banana-Banana x11\n"
      ],
      "metadata": {
        "id": "LYOppMwcqnA8"
      }
    },
    {
      "cell_type": "markdown",
      "source": [
        "![Fig2](https://github.com/evgeny-kolonsky/Lab2_Electron/blob/main/Fig2%20Setup.png?raw=true)"
      ],
      "metadata": {
        "id": "H30z-La_Vhk8"
      }
    },
    {
      "cell_type": "markdown",
      "source": [
        "Check that equipments is correctly connected accoring to the scheme.\n",
        "\n",
        "*   Make sure that high voltage supplies (HVS) central **switches** is in correct prosition: central position for the deflection voltage source, right position for the acceleration voltage source.\n",
        "*   Make sure that **ground** sockets of HVSs are correctly connected.\n",
        "* Make sure that Helmholz rings are connected in series.\n",
        "* Set up DMM for direct current measurement (DCI mode). Do not trust to the Powers Source display readings.\n",
        "\n",
        "\n"
      ],
      "metadata": {
        "id": "A7uZmQXLYWXP"
      }
    },
    {
      "cell_type": "code",
      "source": [
        "# CONSTANTS\n",
        "N = 320 # Helmholz ring coils\n",
        "R = 6.7e-2 # Helmholz ring raduis\n",
        "mu0 = scipy.constants.mu_0\n",
        "k2 = (4/5)**1.5\n",
        "d = 5.5e-2 #plates dist, cm\n",
        "em_reference = 1.7588e11 # C/kg "
      ],
      "metadata": {
        "id": "n9yF4HaPPV0q"
      },
      "execution_count": 14,
      "outputs": []
    },
    {
      "cell_type": "markdown",
      "source": [
        "# Z - experiment"
      ],
      "metadata": {
        "id": "sSyuCcZAVn0y"
      }
    },
    {
      "cell_type": "markdown",
      "source": [
        "In this experiment only accelerating volatge $U_a$ is applied. The trajectory will be a straight line. We call it *zero forces line*.\n",
        "\n",
        "\n"
      ],
      "metadata": {
        "id": "hdPQFGm2XiFw"
      }
    },
    {
      "cell_type": "markdown",
      "source": [
        "## The coordinate system definition and zero corection\n",
        "\n",
        "Let's place $(x,y)$ coordinates axes according tube screen gridlines (see the figure). To take into account that zero forces line may slightly differ from $x$-axis, as on the figure, we make correction by rotating  cooridinate system by small angle $\\alpha$ between $x$-axis and zero forces line. This way we ensure that in the rotated coordinates system $(x', y')$ the line $x'=0$ corresponds to zero deflection force."
      ],
      "metadata": {
        "id": "F8K1noaThIWx"
      }
    },
    {
      "cell_type": "markdown",
      "source": [
        "![Fig-coords](https://github.com/evgeny-kolonsky/Lab2_Electron/blob/main/Tubes_compare/coords.jpg?raw=true)"
      ],
      "metadata": {
        "id": "nRONvNG3ePus"
      }
    },
    {
      "cell_type": "markdown",
      "source": [
        "## To do:\n",
        "\n",
        "1. Apply some accelerating voltage $U_a$. Note that the green line of electrone trajectory is straight line when no delflection forces are applied. \n",
        "\n",
        "2. Make a series of observations, changing  $U_a$. \n",
        "\n",
        "3. Calcualte correction angle $\\alpha$. "
      ],
      "metadata": {
        "id": "_qVx0WlMnXiB"
      }
    },
    {
      "cell_type": "code",
      "source": [
        "# PLACE MEASUREMENTS HERE\n",
        "alpha = -0.15/9\n",
        "\n",
        "# function to apply coordinates (x,y) rotation by angle alpha.\n",
        "def rotate(x,y):\n",
        "    cosa, sina = np.cos(alpha), np.sin(alpha)\n",
        "    x1, y1 = x*cosa + y*sina, -x*sina + y*cosa   \n",
        "    return x1, y1"
      ],
      "metadata": {
        "id": "6fxKkkuYlPwq"
      },
      "execution_count": 15,
      "outputs": []
    },
    {
      "cell_type": "markdown",
      "source": [
        "# E - experiment"
      ],
      "metadata": {
        "id": "CHhe-kn_hhho"
      }
    },
    {
      "cell_type": "markdown",
      "source": [
        "In this experiment both the accelerating volatge $U_a$ and deflection voltage $U_p$ are applied. The trajectory will be parabola form like this:\n",
        "![Fig3](https://github.com/evgeny-kolonsky/Lab2_Electron/blob/main/Tubes_compare/01/20230607_112323.jpg?raw=true).\n"
      ],
      "metadata": {
        "id": "T46EVE6livWt"
      }
    },
    {
      "cell_type": "markdown",
      "source": [
        "In the electric field an electron moves on a parabola-shaped\n",
        "curve. If the electron is accelerated by a given anode voltage\n",
        "$U_A$ and then passes through the electric field of a plate capacitor with the voltage $U_P$ and the distance between the\n",
        "plates is $d$, the following applies for the path\n",
        "$$ y = {E \\over 4 U_a} x^2 \\tag{1}$$.\n",
        "\n",
        "On account of the construction of the tube, the electric field is\n",
        "smaller then the value expected according to theory. This can\n",
        "be taken into account in the experiment by a correction factor $k_1$: \n",
        "$$\n",
        "E_{exp} = k_1 E_{theo}.\n",
        "\\tag{2}\n",
        "$$\n",
        "Therefore\n",
        "$$\n",
        "\\frac{y}{U_P} = k_1 {x^2 \\over 4 d U_A},\n",
        "\\tag{2.1}\n",
        "$$"
      ],
      "metadata": {
        "id": "HIAfNe21j-E9"
      }
    },
    {
      "cell_type": "markdown",
      "source": [
        "In E-experiemnt we find correction factor $k_1$.\n"
      ],
      "metadata": {
        "id": "lRIfs3m9kH3S"
      }
    },
    {
      "cell_type": "markdown",
      "source": [
        "## To do:\n",
        "\n",
        "1. Apply accelerating voltage $U_a$ and deflection volatge $U_p$. For better accuracy keep $U_a > 2 \\text{kV}$ and $|U_p| < U_a$. \n",
        "\n",
        "2. Read and write down coordinates of points on along the trajectory. Apply ccordinates rotation by $\\alpha$, found in Z-experiment.\n",
        "\n",
        "3. Make a series of observations. Apply positive and negative $U_p$. Calculate average $k_1$ using linear regression. \n",
        "\n",
        "We will use this result later during W-experiment.\n"
      ],
      "metadata": {
        "id": "UW9rt-kVnOsv"
      }
    },
    {
      "cell_type": "code",
      "execution_count": 16,
      "metadata": {
        "id": "a3hcWszOTThv"
      },
      "outputs": [],
      "source": [
        "# PLACE MEASUREMENTS HERE\n",
        "# each line: Ua (kV), Up(kV), x (cm), y(cm)\n",
        "measurements = '''\n",
        "3 2.4 2 0.1\n",
        "3 2.4 3 0.2\n",
        "3 2.4 4 0.4\n",
        "3 2.4 5 0.6\n",
        "3 2.4 6 0.8\n",
        "3 2.4 7 1.2\n",
        "3 2.4 8 1.5\n",
        "3 2.4 9 2.0\n",
        "4 1.9 2 0\n",
        "4 1.9 3 .1\n",
        "4 1.9 4 .2\n",
        "4 1.9 5 .3\n",
        "4 1.9 6 .4\n",
        "4 1.9 7 .6\n",
        "4 1.9 8 .8\n",
        "4 1.9 9 1.0\n",
        "3 -2.1 2 -.1\n",
        "3 -2.1 3 -.2\n",
        "3 -2.1 4 -.4\n",
        "3 -2.1 5 -.6\n",
        "3 -2.1 6 -.9\n",
        "3 -2.1 7 -1.2\n",
        "3 -2.1 8 -1.6\n",
        "3 -2.1 9 -2.0\n",
        "4 -1.2 2 -.05\n",
        "4 -1.2 3 -.1\n",
        "4 -1.2 4 -.2\n",
        "4 -1.2 5 -.3\n",
        "4 -1.2 6 -.5\n",
        "4 -1.2 7 -.7\n",
        "4 -1.2 8 -.9\n",
        "4 -1.2 9 -1.0\n",
        "'''\n",
        "data = np.genfromtxt(measurements.splitlines(), dtype=float)\n",
        "Ua, Up, x, y = data.T\n",
        "\n",
        "x, y = rotate(x, y)\n",
        "\n",
        "Ua *=1e3 #kV\n",
        "Up *=1e3 #kV\n",
        "x *=1e-2 #cm\n",
        "y *=1e-2 #cm\n",
        "\n",
        "\n",
        "yu = y / Up\n",
        "xu = x**2 /4/Ua/d\n",
        "fit = linregress(xu, yu)\n",
        "k1 = fit.slope"
      ]
    },
    {
      "cell_type": "code",
      "source": [
        "plt.plot(xu, 1.00*xu, label=f'theory    k={1.0:.2f}',c='lightgray', ls='dotted')\n",
        "plt.plot(xu, 0.75*xu, label=f'estimated k={.75:.2f}',c='gray', ls='dotted')\n",
        "plt.plot(xu, fit.intercept + fit.slope*xu, \n",
        "                      label=f'fitted    k={fit.slope:.2f}',c='green')\n",
        "plt.plot(xu, yu, label='measurements', c='black', \n",
        "            marker='s', fillstyle='none', ls='', )\n",
        "plt.legend()\n",
        "plt.grid()\n",
        "plt.xlabel('x^2/Ua/4/d, [m/V]')\n",
        "plt.ylabel('y/Up, [m/V]')\n",
        "plt.title(r'Deflection $\\frac{y}{U_P} = k_1 \\frac{x^2}{4 U_A d}$');"
      ],
      "metadata": {
        "colab": {
          "base_uri": "https://localhost:8080/",
          "height": 483
        },
        "id": "GXBp64e0m-Kp",
        "outputId": "c90ca0c6-54a8-4065-aef4-580eed6842f3"
      },
      "execution_count": 17,
      "outputs": [
        {
          "output_type": "display_data",
          "data": {
            "text/plain": [
              "<Figure size 640x480 with 1 Axes>"
            ],
            "image/png": "[encoded data removed]"
          },
          "metadata": {}
        }
      ]
    },
    {
      "cell_type": "markdown",
      "source": [
        "# B - experiment"
      ],
      "metadata": {
        "id": "Qg_qgpkzq-dF"
      }
    },
    {
      "cell_type": "markdown",
      "source": [
        "In this experiment the deflection is achieved by applying field $B$ induced by current $I$. The trajectory will be a circle arc like this:\n",
        "![Fig4](https://github.com/evgeny-kolonsky/Lab2_Electron/blob/main/Tubes_compare/01/20230607_112423.jpg?raw=true).\n",
        "\n",
        "By measuring circle arc curvature we will calculate ${e \\over m}$."
      ],
      "metadata": {
        "id": "KBP6vDTLrEKN"
      }
    },
    {
      "cell_type": "markdown",
      "source": [
        "$$\n",
        "B =  k_2 \\cdot \\mu_0 {N I\\over R}, \\quad k_2 = 0.7155\n",
        "\\tag{4}\n",
        "$$\n",
        "\n",
        "$$\n",
        "{e \\over m} = {2U_A\\over (B\\cdot r)^2},\n",
        "\\tag{5}\n",
        "$$ \n",
        "\n",
        "$$\n",
        "\\text{curvature} = {1\\over r} = {y'' \\over (1 + y'^2)^{3\\over 2}}\n",
        "$$ "
      ],
      "metadata": {
        "id": "Clo1-Tvnshh0"
      }
    },
    {
      "cell_type": "markdown",
      "source": [
        "## To do:\n",
        "\n",
        "1. Apply accelerating voltage $U_a$ and current $I$, creating deflection magnetic field $B$. For better accuracy keep $U_a$ over 2 kV and below 5kV, and $|I|$ > 100 mA. \n",
        "\n",
        "2. Read and write down coordinates of points on along the trajectory. Again, apply zero correction by coordinates rotation.\n",
        "\n",
        "3. Make a series of observations. Apply positive and negative $I$. Calculate average ${e \\over m}$. "
      ],
      "metadata": {
        "id": "uxEVMkNAt2Tb"
      }
    },
    {
      "cell_type": "code",
      "source": [
        "# PLACE MEASUREMENTS HERE\n",
        "# each line: Ua (kV), I(mA), x (cm), y(cm)\n",
        "measurements = '''\n",
        "2 133 2 .1\n",
        "2 133 3 .2\n",
        "2 133 4 .5\n",
        "2 133 5 .7\n",
        "2 133 6 .95\n",
        "2 133 7 1.2\n",
        "2 133 8 1.6\n",
        "2 133 9 2.0\n",
        "2 199 2 .2\n",
        "2 199 3 .5\n",
        "2 199 4 .8\n",
        "2 199 5 1.1\n",
        "2 199 6 1.5\n",
        "2 199 7 2.0\n",
        "2 199 8 2.5\n",
        "2 -199 2 -.3\n",
        "2 -199 3 -.6\n",
        "2 -199 4 -.95\n",
        "2 -199 5 -1.2\n",
        "2 -199 6 -1.8\n",
        "2 -199 7 -2.2\n",
        "2 -199 7.5 -2.5 \n",
        "3.7 -160 2 -.2\n",
        "3.7 -160 3 -.3\n",
        "3.7 -160 4 -.5\n",
        "3.7 -160 5 -0.8\n",
        "3.7 -160 6 -1.0\n",
        "3.7 -160 7 -1.2\n",
        "3.7 -160 8 -1.6\n",
        "3.7 -160 9 -2.0\n",
        "'''\n",
        "data = np.genfromtxt(measurements.splitlines(), dtype=float)\n",
        "Ua, I, x, y = data.T\n",
        "\n",
        "x, y = rotate(x, y)\n",
        "\n",
        "Ua *=1e3 #kV\n",
        "I *=1e-3 #mA\n",
        "x *=1e-2 #cm\n",
        "y *=1e-2 #cm\n",
        "\n",
        "ems = []\n",
        "for ua in np.unique(Ua):\n",
        "  for current in np.unique(I):\n",
        "    filter = (Ua==ua) & (I == current)\n",
        "    if filter.sum() == 0:   # skip empty subsets\n",
        "      continue \n",
        "    p = poly.Polynomial.fit(x[filter], y[filter], deg=3)\n",
        "    p1 = p.deriv(1)\n",
        "    p2 = p.deriv(2)\n",
        "    curvature = np.abs(p2(x) / (1 + p1(x)**2) **1.5).mean()\n",
        "    B = k2 * mu0 * N * current /R\n",
        "    em = 2 * ua * curvature**2/B**2 \n",
        "    ems.append(em)\n",
        "    print(f'Ua: {ua*1e-3:.1f} kV, I: {current*1e3:.0f} mA, e/m: {em:.4e} C/kg')\n",
        "\n",
        "ems = np.array(ems)\n",
        "\n",
        "print(f'Average e/m in B-experiment: {ems.mean():.2e} C/kg')"
      ],
      "metadata": {
        "colab": {
          "base_uri": "https://localhost:8080/"
        },
        "id": "LeUpqKoynAt8",
        "outputId": "aaab39d8-bea9-41a9-f606-949613409878"
      },
      "execution_count": 18,
      "outputs": [
        {
          "output_type": "stream",
          "name": "stdout",
          "text": [
            "Ua: 2.0 kV, I: -199 mA, e/m: 1.0629e+11 C/kg\n",
            "Ua: 2.0 kV, I: 133 mA, e/m: 1.1268e+11 C/kg\n",
            "Ua: 2.0 kV, I: 199 mA, e/m: 9.1647e+10 C/kg\n",
            "Ua: 3.7 kV, I: -160 mA, e/m: 1.5466e+11 C/kg\n",
            "Average e/m in B-experiment: 1.16e+11 C/kg\n"
          ]
        }
      ]
    },
    {
      "cell_type": "markdown",
      "source": [
        "# W - experiment"
      ],
      "metadata": {
        "id": "hpBnRg0Jzk3M"
      }
    },
    {
      "cell_type": "markdown",
      "source": [
        "In this experiment we will balance electrostatic and magnetic deflection forces.  The trajectory should be as close to zero-forces line as possible:\n",
        "![Fig5](https://github.com/evgeny-kolonsky/Lab2_Electron/blob/main/Tubes_compare/01/20230607_112459.jpg?raw=true).\n",
        "\n"
      ],
      "metadata": {
        "id": "dcrkDwH6zop9"
      }
    },
    {
      "cell_type": "markdown",
      "source": [
        "$$\n",
        "{m v^2 \\over 2} = e \\cdot U_A , \\quad v = {E \\over B}\n",
        "$$\n",
        "\n",
        "$$\n",
        "{e \\over m} = {1\\over 2 U_A} \\left({E\\over B}\\right)^2\n",
        "\\tag{6}\n",
        "$$\n",
        "\n",
        "$$\n",
        "E = k_1 {U_P\\over d}\n",
        "\\tag{7}$$"
      ],
      "metadata": {
        "id": "p9xpMtWW0VQd"
      }
    },
    {
      "cell_type": "markdown",
      "source": [
        "## To do:\n",
        "\n",
        "1. Apply accelerating voltage $U_a$, deflection voltage $U_p$. and current $I$. For better accuracy keep $U_a$ over 2 kV and below 5kV, $|U_p| < U_a$, and $|I|$ > 100 mA. Vary current $I$ to make trajectory as close to the zero forces line as possible. \n",
        "\n",
        "2. Use $k_1$ found in E-experiment.\n",
        "\n",
        "3. Make a series of observations. Calculate average ${e \\over m}$ and it's 95% confindence interval (CI). \n",
        "\n",
        "\n",
        "\n"
      ],
      "metadata": {
        "id": "LHsW1VHF04d6"
      }
    },
    {
      "cell_type": "code",
      "source": [
        "# PLACE MEASUREMENTS HERE\n",
        "# each line: Ua (kV), Up (kV), I(mA)\n",
        "measurements = '''\n",
        "3.7 1.9 -160\n",
        "3.0 2.0 -174 \n",
        "2.6 2.1 -203\n",
        "2.6 -2.2 203\n",
        "3.4 -2.2 180\n",
        "4.3 -2.9 180\n",
        "4.3 -1.8 132\n",
        "4.0 -3 214\n",
        "3.8 -2.8 214\n",
        "'''\n",
        "data = np.genfromtxt(measurements.splitlines(), dtype=float)\n",
        "Ua, Up, I = data.T\n",
        "\n",
        "Ua *=1e3 #kV\n",
        "Up *=1e3 #kV\n",
        "I *=1e-3 #mA\n",
        "\n",
        "E = k1 * Up /d\n",
        "B = k2 * mu0 * N * current /R \n",
        "em = (E/B)**2 / Ua /2\n",
        "print(f'e/m: {em.mean():.4e} C/kg')"
      ],
      "metadata": {
        "colab": {
          "base_uri": "https://localhost:8080/"
        },
        "id": "7ci3AuO1wjUx",
        "outputId": "a38eea41-b6e5-4c61-f509-52a24ea7cfa3"
      },
      "execution_count": 23,
      "outputs": [
        {
          "output_type": "stream",
          "name": "stdout",
          "text": [
            "e/m: 1.9407e+11 C/kg\n"
          ]
        }
      ]
    },
    {
      "cell_type": "code",
      "source": [
        "# create 95% confidence interval\n",
        "ci = stats.t.interval(confidence=0.95, df=len(em)-1,\n",
        "              loc=np.mean(em),\n",
        "              scale=stats.sem(em))\n",
        "print(ci)"
      ],
      "metadata": {
        "colab": {
          "base_uri": "https://localhost:8080/"
        },
        "id": "haEVwE_kxGw0",
        "outputId": "d03c6476-50cc-4b86-c9b3-4291db8fad65"
      },
      "execution_count": 24,
      "outputs": [
        {
          "output_type": "stream",
          "name": "stdout",
          "text": [
            "(146600238210.3194, 241548775960.05096)\n"
          ]
        }
      ]
    },
    {
      "cell_type": "code",
      "source": [],
      "metadata": {
        "id": "f1nMUVFxycWf"
      },
      "execution_count": 20,
      "outputs": []
    }
  ]
}